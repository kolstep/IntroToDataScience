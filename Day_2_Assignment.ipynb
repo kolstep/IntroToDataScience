{
  "nbformat": 4,
  "nbformat_minor": 0,
  "metadata": {
    "colab": {
      "name": "Day 2 Assignment.ipynb",
      "provenance": [],
      "collapsed_sections": [],
      "authorship_tag": "ABX9TyMVhV/uoCoSCINP6r9liQL4"
    },
    "kernelspec": {
      "name": "python3",
      "display_name": "Python 3"
    },
    "language_info": {
      "name": "python"
    }
  },
  "cells": [
    {
      "cell_type": "markdown",
      "metadata": {
        "id": "zLDQhhfwOkwy"
      },
      "source": [
        "#Q1"
      ]
    },
    {
      "cell_type": "markdown",
      "metadata": {
        "id": "DTBSPnJ6FwH8"
      },
      "source": [
        "We are having 3 list like this\n",
        "\n",
        "Colors = [“Yellow”,”Green”,”White”,”Black”]\n",
        "\n",
        "Fruits=[“Apple”,”Papaya”,”Mango”,”Orange”]\n",
        "\n",
        "Animals=[“Tiger”,”Lion”,”Deer”,”Zebra”]\n",
        "\n",
        " i. Write a program that asks user to enter a Color/Fruit/Animal name and it should tell which category belongs to , like its is a fruit or color or Animal\n",
        "\n",
        " ii. Write a program that asks user to enter two cities and it tells you if they both are in same country or not. For example if I enter yellow and Black, it will print \"Both are colors\" but if I enter yellow and Tiger it should print \"They don't belong to same category\""
      ]
    },
    {
      "cell_type": "code",
      "metadata": {
        "id": "t6E78sAkGxVT",
        "colab": {
          "base_uri": "https://localhost:8080/"
        },
        "outputId": "7d7a3a5f-1486-4a2b-bcf8-4e454810eeea"
      },
      "source": [
        "#Write a program that asks user to enter a Color/Fruit/Animal name and it should tell which category belongs to\n",
        "a = input()\n",
        "#input the given list\n",
        "Colors = \"Yellow\", \"Green\", \"White\", \"Black\"\n",
        "Fruits= \"Apple\", \"Papaya\", \"Mango\", \"Orange\"\n",
        "Animals= \"Tiger\", \"Lion\", \"Deer\", \"Zebra\"\n",
        "\n",
        "if a in Colors:\n",
        "  print(\"Colors\")\n",
        "elif a in Fruits:\n",
        "  print(\"Fruits\")\n",
        "elif a in Animals:\n",
        "  print(\"Animals\")\n",
        "else:\n",
        "  print(a + \" \" + \"does not belong to any category\")\n",
        "\n",
        "#Write a program that asks user to enter two cities and it tells you if they both are in same country or not\n",
        "a = input(\"Enter the first city \")\n",
        "b = input(\"Enter the second city \")\n",
        "#input the given variables\n",
        "Nigeria = \"Lagos\", \"Abuja\", \"Port Harcourt\", \"Kano\"\n",
        "Ghana= \"Kumasi\", \"Accra\", \"Cape Coast\", \"Dambai\"\n",
        "SouthAfrica= \"Durban\", \"Johannesburg\", \"Cape Town\", \"Pretoria\"\n",
        "\n",
        "if (a in Nigeria) and (b in Nigeria):\n",
        "  print(\"Both cities are in the same country\")\n",
        "elif (a in Ghana) and (b in Ghana):\n",
        "  print(\"Both cities are in the same country\")\n",
        "elif (a in SouthAfrica) and (b in SouthAfrica):\n",
        "  print(\"Both cities are in the same country\")\n",
        "else:\n",
        "  print(\"They don't belong to the same country\")"
      ],
      "execution_count": null,
      "outputs": [
        {
          "output_type": "stream",
          "text": [
            "Green\n",
            "Colors\n",
            "Enter the first city Lagos\n",
            "Enter the second city Accra\n",
            "They don't belong to the same country\n"
          ],
          "name": "stdout"
        }
      ]
    },
    {
      "cell_type": "markdown",
      "metadata": {
        "id": "AVs0TBmbOGhr"
      },
      "source": [
        "#Q2"
      ]
    },
    {
      "cell_type": "markdown",
      "metadata": {
        "id": "w0XeFrdlBtt9"
      },
      "source": [
        "Write a python program that can tell you if your grade score good or not . Normal Score range is 40 to 60.\n",
        "\n",
        "  i. Ask user to enter his score.\n",
        "\n",
        "  ii. If it is below 40 to 60 range then print that score is low\n",
        "\n",
        "  iii. If it is above 60 then print that it is good otherwise print that it is normal"
      ]
    },
    {
      "cell_type": "code",
      "metadata": {
        "colab": {
          "base_uri": "https://localhost:8080/"
        },
        "id": "vGqGh0mWBc28",
        "outputId": "105914e8-fdc2-4dc4-bbc9-e4c2c8c74d58"
      },
      "source": [
        "x = float(input(\"Enter your score \"))\n",
        "if x < 40:\n",
        "  print(\"Your score is LOW\")\n",
        "elif x<=60:\n",
        "  print(\"Your score is NORMAL\")\n",
        "else:\n",
        "  print(\"Your score is GOOD\")"
      ],
      "execution_count": null,
      "outputs": [
        {
          "output_type": "stream",
          "text": [
            "Enter your score 65\n",
            "Your score is GOOD\n"
          ],
          "name": "stdout"
        }
      ]
    },
    {
      "cell_type": "markdown",
      "metadata": {
        "id": "BBnXGtlEOJXr"
      },
      "source": [
        "#Q3"
      ]
    },
    {
      "cell_type": "markdown",
      "metadata": {
        "id": "uy8wVl76eWdB"
      },
      "source": [
        "After appearing in exam 10 times you got this result,\n",
        "\n",
        "result = [\"Pass\",\"Fail\",\"Fail\",\"Pass\",\"Fail\",\"Pass\",\"Pass\",\"Fail\",\"Fail\",\"Fail\"]\n",
        "\n",
        "Using for loop figure out how many times you got Pass"
      ]
    },
    {
      "cell_type": "code",
      "metadata": {
        "colab": {
          "base_uri": "https://localhost:8080/"
        },
        "id": "5fbg9dUXeiD6",
        "outputId": "5371fe7e-e763-4ea1-8108-a2bfe9145f11"
      },
      "source": [
        "result = [\"Pass\",\"Fail\",\"Fail\",\"Pass\",\"Fail\",\"Pass\",\"Pass\",\"Fail\",\"Fail\",\"Fail\"]\n",
        "count = 0\n",
        "for i in result:\n",
        "  if i == \"Pass\":\n",
        "    count = count + 1\n",
        "print(\"You have passed the exam {} number of times\".format(count))"
      ],
      "execution_count": null,
      "outputs": [
        {
          "output_type": "stream",
          "text": [
            "You have passed the exam 4 number of times\n"
          ],
          "name": "stdout"
        }
      ]
    },
    {
      "cell_type": "markdown",
      "metadata": {
        "id": "FJ28xBXiON3D"
      },
      "source": [
        "#Q4"
      ]
    },
    {
      "cell_type": "markdown",
      "metadata": {
        "id": "qHsB3KIoLoGi"
      },
      "source": [
        "Write a program that prints following shape\n",
        "\n",
        "*\n",
        "\n",
        "* *\n",
        "\n",
        "* * *\n",
        "\n",
        "* * * *\n",
        "\n",
        "* * * * *\n",
        "\n",
        "* * * *\n",
        "\n",
        "* * *\n",
        "\n",
        "* *\n",
        "\n",
        "*"
      ]
    },
    {
      "cell_type": "code",
      "metadata": {
        "colab": {
          "base_uri": "https://localhost:8080/"
        },
        "id": "_zbBSovP1MMS",
        "outputId": "167225ef-c4f0-4425-e9b7-b295117883d6"
      },
      "source": [
        "#using method 1\n",
        "for i in range (1,6):\n",
        "    print(\" * \" * i)\n",
        "    print(\"  \")\n",
        "for i in range (4, 0, -1):\n",
        "\n",
        "    print(\" * \" * i)\n",
        "    print(\"  \")\n",
        "\n",
        "\n",
        "#using method 2\n",
        "for i in range(N):\n",
        "    if i<(N/2)+1:\n",
        "        for j in range(0,i):\n",
        "            print(\" * \",end=\" \")\n",
        "    else:\n",
        "        for j in range(0,10-i):\n",
        "            print(\" * \",end=\" \")\n",
        "    print(\" \")"
      ],
      "execution_count": null,
      "outputs": [
        {
          "output_type": "stream",
          "text": [
            " * \n",
            "  \n",
            " *  * \n",
            "  \n",
            " *  *  * \n",
            "  \n",
            " *  *  *  * \n",
            "  \n",
            " *  *  *  *  * \n",
            "  \n",
            " *  *  *  * \n",
            "  \n",
            " *  *  * \n",
            "  \n",
            " *  * \n",
            "  \n",
            " * \n",
            "  \n",
            " \n",
            " *   \n",
            " *   *   \n",
            " *   *   *   \n",
            " *   *   *   *   \n",
            " *   *   *   *   *   \n",
            " *   *   *   *   \n",
            " *   *   *   \n",
            " *   *   \n",
            " *   \n"
          ],
          "name": "stdout"
        }
      ]
    },
    {
      "cell_type": "markdown",
      "metadata": {
        "id": "SrbHhPq7OWcS"
      },
      "source": [
        "#Q5"
      ]
    },
    {
      "cell_type": "markdown",
      "metadata": {
        "id": "2MOHQfy55TqP"
      },
      "source": [
        "Lets say you are running a 50km race. Write a program that,\n",
        "\n",
        "Upon completing each 10km asks you \"are you tired?\"\n",
        "If you reply \"yes\" then it should break and print \"you didn't finish the race\"\n",
        " If you reply \"no\" then it should continue and ask \"are you tired\" on every km\n",
        "If you finish all 50 km then it should print congratulations message"
      ]
    },
    {
      "cell_type": "code",
      "metadata": {
        "colab": {
          "base_uri": "https://localhost:8080/"
        },
        "id": "02vjNY--5wkI",
        "outputId": "7ece110a-913f-4df9-9067-18a08eccf961"
      },
      "source": [
        "#input the total distance to be covered\n",
        "Distance = 50\n",
        "#input the interval\n",
        "Interval = 10\n",
        "#Determine the laps completed\n",
        "Laps = Distance//Interval\n",
        "for i in range(1,Distance+1):\n",
        "    if (i%10==0) and i!=50:\n",
        "        x=input(\"Are you tired? \") #Enter Yes or No\n",
        "        if x==\"Yes\" or x==\"yes\":\n",
        "            print(\"You didn't finish the race. You have only covered {}km in the race\".format(i))\n",
        "            break\n",
        "        else:\n",
        "            continue\n",
        "    elif (i%10==0) and i==50:\n",
        "        print(\"Congratulations, you have successfully completed the race\")"
      ],
      "execution_count": null,
      "outputs": [
        {
          "output_type": "stream",
          "text": [
            "Are you tired? yes\n",
            "You didn't finish the race. You have only covered 10km in the race\n"
          ],
          "name": "stdout"
        }
      ]
    },
    {
      "cell_type": "markdown",
      "metadata": {
        "id": "Hbg4QmscOaqc"
      },
      "source": [
        "#Q6"
      ]
    },
    {
      "cell_type": "markdown",
      "metadata": {
        "id": "rPGF2RT3HZRA"
      },
      "source": [
        "Write a Python program to find those numbers which are divisible by 7 and multiple of 5, between 1500 and 2700 (both included)."
      ]
    },
    {
      "cell_type": "code",
      "metadata": {
        "colab": {
          "base_uri": "https://localhost:8080/"
        },
        "id": "nsy8RF05JJlP",
        "outputId": "4c4af7e7-19a6-465e-809e-af6bd86917e1"
      },
      "source": [
        "x = \"Numbers within the 1500 and 2700, divisible by 7 and multiple of 5\"\n",
        "a = int (1500)\n",
        "b = int (2700)\n",
        "for i in range (a - 1,b + 1):\n",
        "    if i%7==0 and i%5==0:\n",
        "        print(i)"
      ],
      "execution_count": null,
      "outputs": [
        {
          "output_type": "stream",
          "text": [
            "1505\n",
            "1540\n",
            "1575\n",
            "1610\n",
            "1645\n",
            "1680\n",
            "1715\n",
            "1750\n",
            "1785\n",
            "1820\n",
            "1855\n",
            "1890\n",
            "1925\n",
            "1960\n",
            "1995\n",
            "2030\n",
            "2065\n",
            "2100\n",
            "2135\n",
            "2170\n",
            "2205\n",
            "2240\n",
            "2275\n",
            "2310\n",
            "2345\n",
            "2380\n",
            "2415\n",
            "2450\n",
            "2485\n",
            "2520\n",
            "2555\n",
            "2590\n",
            "2625\n",
            "2660\n",
            "2695\n"
          ],
          "name": "stdout"
        }
      ]
    },
    {
      "cell_type": "markdown",
      "metadata": {
        "id": "Pf3MzP13Obsc"
      },
      "source": [
        "#Q7"
      ]
    },
    {
      "cell_type": "markdown",
      "metadata": {
        "id": "4TunZz4V-rDX"
      },
      "source": [
        "Print square of all numbers between 10 to 20 except even numbers"
      ]
    },
    {
      "cell_type": "code",
      "metadata": {
        "colab": {
          "base_uri": "https://localhost:8080/"
        },
        "id": "LPZktF_H_Cns",
        "outputId": "40f96514-f21b-4653-c389-ad7c818fe680"
      },
      "source": [
        "x = \"square of all numbers between 10 to 20 except even numbers\"\n",
        "a = int (10)\n",
        "b = int (20)\n",
        "for i in range (10,21):\n",
        "    if i%2==0:\n",
        "      continue\n",
        "    else:\n",
        "      print(i*i)"
      ],
      "execution_count": null,
      "outputs": [
        {
          "output_type": "stream",
          "text": [
            "121\n",
            "169\n",
            "225\n",
            "289\n",
            "361\n"
          ],
          "name": "stdout"
        }
      ]
    },
    {
      "cell_type": "markdown",
      "metadata": {
        "id": "DDdVE6TaOcki"
      },
      "source": [
        "#Q8"
      ]
    },
    {
      "cell_type": "markdown",
      "metadata": {
        "id": "34r0DP5rAVQs"
      },
      "source": [
        "Your Marks for five Test(test1 to test5) looks like this,\n",
        "marks_list = [65, 75, 2100, 95, 83]\n",
        "Write a program that asks you to enter marks and program should tell you in which test that marks occurred. If marks is not found then it should print that as well."
      ]
    },
    {
      "cell_type": "code",
      "metadata": {
        "colab": {
          "base_uri": "https://localhost:8080/"
        },
        "id": "6pTi1bZpAhV4",
        "outputId": "bb96af62-2ad1-422f-c084-4efe90f8faaf"
      },
      "source": [
        "i = int(input(\"Enter your marks \"))\n",
        "marks_list = [65, 75, 2100, 95, 83]\n",
        "l=len(marks_list)\n",
        "if i in marks_list:\n",
        "    indx = marks_list.index(i)\n",
        "    print(\"You have scored {} marks in Test {}\".format(i, indx + 1))\n",
        "else:\n",
        "    print(\"No score found with the marks {} in any of the test\".format(x))"
      ],
      "execution_count": null,
      "outputs": [
        {
          "output_type": "stream",
          "text": [
            "Enter your marks 78\n",
            "No score found with the marks 65 in any of the test\n"
          ],
          "name": "stdout"
        }
      ]
    }
  ]
}